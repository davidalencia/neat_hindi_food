{
  "nbformat": 4,
  "nbformat_minor": 0,
  "metadata": {
    "kernelspec": {
      "display_name": "Python 3",
      "language": "python",
      "name": "python3"
    },
    "language_info": {
      "codemirror_mode": {
        "name": "ipython",
        "version": 3
      },
      "file_extension": ".py",
      "mimetype": "text/x-python",
      "name": "python",
      "nbconvert_exporter": "python",
      "pygments_lexer": "ipython3",
      "version": "3.8.5"
    },
    "colab": {
      "name": "Untitled.ipynb",
      "provenance": []
    }
  },
  "cells": [
    {
      "cell_type": "code",
      "metadata": {
        "id": "iwS441HZvo5a"
      },
      "source": [
        "import numpy as np\n",
        "from enum import Enum"
      ],
      "execution_count": 42,
      "outputs": []
    },
    {
      "cell_type": "code",
      "metadata": {
        "id": "I5lV2leCRCCh"
      },
      "source": [
        "def sigmoid(x):\n",
        "  return 1/(1+np.exp(-x))"
      ],
      "execution_count": 100,
      "outputs": []
    },
    {
      "cell_type": "code",
      "metadata": {
        "id": "7UUzJGmdJzCg"
      },
      "source": [
        "class Neuron_type(Enum):\n",
        "  input = 0\n",
        "  hidden = 1\n",
        "  output = 2"
      ],
      "execution_count": 43,
      "outputs": []
    },
    {
      "cell_type": "code",
      "metadata": {
        "id": "qb7ei1tuJe7d"
      },
      "source": [
        "class Neuron:\n",
        "  def __init__(self, id, ntype):\n",
        "    self.id = id\n",
        "    self.ntype = ntype\n",
        "  \n",
        "  def __str__(self):\n",
        "    return \"{}: {}\".format(self.id, self.ntype.name)"
      ],
      "execution_count": 169,
      "outputs": []
    },
    {
      "cell_type": "code",
      "metadata": {
        "id": "iFQOIMW-vsDD"
      },
      "source": [
        "class Gene:\n",
        "  def __init__(self, in_neuron, out, w, enable, innov_nb):\n",
        "    self.in_neuron = in_neuron\n",
        "    self.out = out\n",
        "    self.w = w\n",
        "    self.enable = enable\n",
        "    self.innov_nb = innov_nb\n",
        "    \n",
        "  def __str__(self):\n",
        "    s = \"{}: \".format(self.innov_nb)\n",
        "    s = s + \"{} ---{}---> {} \".format(self.in_neuron, self.w, self.out)\n",
        "    s = s + \" {}\".format(self.enable)\n",
        "    return s"
      ],
      "execution_count": 67,
      "outputs": []
    },
    {
      "cell_type": "code",
      "metadata": {
        "id": "6XXSJvQ-c5k1",
        "outputId": "aa4d4381-7971-4377-bbf0-f8b73a3822b4",
        "colab": {
          "base_uri": "https://localhost:8080/"
        }
      },
      "source": [
        "for i in range(1, 2+1):\n",
        "  print(i)"
      ],
      "execution_count": 170,
      "outputs": [
        {
          "output_type": "stream",
          "text": [
            "1\n",
            "2\n"
          ],
          "name": "stdout"
        }
      ]
    },
    {
      "cell_type": "code",
      "metadata": {
        "id": "FLu25EPlwjAP"
      },
      "source": [
        "class Net:\n",
        "  def __init__(self, input, output, chromosome = None):\n",
        "    if chromosome == None:\n",
        "      chromosome = {\n",
        "          'neurons': [],\n",
        "          'genes': []\n",
        "      }\n",
        "      id = 1\n",
        "      for i in range(1, input+1):\n",
        "        chromosome['neurons'].append(Neuron(id, Neuron_type.input))\n",
        "        id = id + 1\n",
        "      for i in range(1, output+1):\n",
        "        chromosome['neurons'].append(Neuron(id, Neuron_type.output))\n",
        "        id = id + 1\n",
        "      nb = 0\n",
        "      for i in range(input+1):\n",
        "        for j in range(output):\n",
        "          gene = Gene(i, input+j+1, 1, True, nb)\n",
        "          nb = nb + 1\n",
        "          chromosome['genes'].append(gene)\n",
        "    self.chromosome = chromosome\n",
        "    self.valores = {}\n",
        "    self.input = input\n",
        "    self.output = output\n",
        "    for gene in chromosome['genes']:\n",
        "      if gene.enable:\n",
        "        if not gene.out in self.valores:\n",
        "          self.valores[gene.out] = [(gene.in_neuron, gene.w)]\n",
        "        else:\n",
        "          self.valores[gene.out].append((gene.in_neuron, gene.w))\n",
        "  \n",
        "  def __str__(self):\n",
        "    s = \"\"\n",
        "    for n in self.chromosome['neurons']:\n",
        "      s = s + str(n) + \"\\n\" \n",
        "    for gene in self.chromosome['genes']:\n",
        "      s = s + str(gene) + \"\\n\"\n",
        "    return s\n",
        "\n",
        "  def mutate(self):\n",
        "    pass\n",
        "  \n",
        "  def _forward(self, x, neurons, y):\n",
        "    if y <= self.input:\n",
        "      neurons[y] = x[y-1]\n",
        "      return\n",
        "    sum = 0\n",
        "    for in_neuron, w in self.valores[y]:\n",
        "      if neurons[in_neuron] == np.inf:\n",
        "        self._forward(x, neurons, in_neuron)\n",
        "      sum = sum + neurons[in_neuron]*w\n",
        "    neurons[y] = sigmoid(sum)\n",
        "\n",
        "  def forward(self, X):\n",
        "    y = list()\n",
        "    output_neurons = list()\n",
        "    for n in self.chromosome['neurons']:\n",
        "      if n.ntype == Neuron_type.output:\n",
        "        output_neurons.append(n.id)\n",
        "    for x in X:\n",
        "      neurons = np.full(len(self.chromosome['neurons'])+1, np.inf)\n",
        "      neurons[0] = 1\n",
        "      for out_ix in output_neurons:\n",
        "        self._forward(x, neurons, out_ix)\n",
        "      print(neurons)"
      ],
      "execution_count": 246,
      "outputs": []
    },
    {
      "cell_type": "code",
      "metadata": {
        "id": "GtVC9DS6wsqw"
      },
      "source": [
        "class Neat():\n",
        "  def __init__(self, delta_t, fitness, X, Y):\n",
        "    self.delta_t =  dela_t\n",
        "    self.fitness = fitness\n",
        "    self.X = X\n",
        "    self.Y = Y\n",
        "    self.geometric = Geometric(torch.tensor([0.3]))\n",
        "    #todo\n",
        "  \n",
        "  def parents_indexs(self):\n",
        "    mutter = self.geometric.sample().item()\n",
        "    vater =  self.geometric.sample().item()\n",
        "    while mutter == vater:\n",
        "      vater =  self.geometric.sample().item()\n",
        "    return (mutter, vater)\n",
        "  \n",
        "  def sh(self, individuo, poblacion):\n",
        "    err = self.error(salida,Y)\n",
        "    \n",
        "  \n",
        "  def delta(self, c1, c2):\n",
        "    N =  np.max([len(c1), len(c2)])\n",
        "    N =  N if N >= 20 else 1\n",
        "    matching = 0\n",
        "    W = 0\n",
        "    D = 0\n",
        "    E = 0\n",
        "\n",
        "    i = 0\n",
        "    j = 0\n",
        "    while i<len(c1) and j<len(c2):\n",
        "      g1 = c1[i]\n",
        "      g2 = c2[j]\n",
        "      if g1.innov_nb == g2.innov_nb:\n",
        "        matching =  matching + 1\n",
        "        W = W + g1.w, g2.w\n",
        "        i = i+1\n",
        "        j = j+1\n",
        "      else if g1.innov_nb < g2.innov_nb:\n",
        "        D = D + g1.w\n",
        "        i = i+1\n",
        "      else:\n",
        "        D = D + g2.w\n",
        "        j = j+1\n",
        "    \n",
        "    while i<len(c1):\n",
        "      g1 = c1[i]\n",
        "      E = E + g1.w\n",
        "      i = i+1\n",
        "    while i<len(c1):\n",
        "      g1 = c1[i]\n",
        "      E = E + g1.w\n",
        "      i = i+1\n",
        "    \n",
        "    return (D + E)/N + W/matching\n",
        "\n",
        "\n",
        "  def cross_nets(self, mutter, vater):\n",
        "    pass\n",
        "\n",
        "  def separar(self, redes):\n",
        "    pass\n",
        "\n",
        "  def ordenar(self, especie):\n",
        "    pass\n",
        "\n",
        "  def train(self, X, Y, pop = 50):\n",
        "    redes = list()\n",
        "    for i in range(pop):\n",
        "      redes.append(Net())\n",
        "    for r in redes:\n",
        "      r.mutate()\n",
        "    redes = self.separar(redes)\n",
        "    hijos = list()\n",
        "    for especie  in redes:\n",
        "      self.ordenar(especie)\n",
        "    \n",
        "    for i in range(pop):\n",
        "      (mutter_ix, vater_ix) = self.parents_indexs()\n",
        "\n",
        "\n",
        "\n"
      ],
      "execution_count": 5,
      "outputs": []
    },
    {
      "cell_type": "code",
      "metadata": {
        "colab": {
          "base_uri": "https://localhost:8080/"
        },
        "id": "oKujy0r7wxqc",
        "outputId": "fa19527e-6f72-4ded-a077-6ea4750c93f6"
      },
      "source": [
        "np.max([1,2])"
      ],
      "execution_count": 9,
      "outputs": [
        {
          "output_type": "execute_result",
          "data": {
            "text/plain": [
              "2"
            ]
          },
          "metadata": {
            "tags": []
          },
          "execution_count": 9
        }
      ]
    },
    {
      "cell_type": "markdown",
      "metadata": {
        "id": "Xkk53R__w21p"
      },
      "source": [
        "# Xor test"
      ]
    },
    {
      "cell_type": "code",
      "metadata": {
        "id": "33EZTEsyw-iz"
      },
      "source": [
        "X = [[0, 0], [0, 1], [1, 0], [1, 1]]\n",
        "Y = [[0], [1], [1], [0]]"
      ],
      "execution_count": 247,
      "outputs": []
    }
  ]
}