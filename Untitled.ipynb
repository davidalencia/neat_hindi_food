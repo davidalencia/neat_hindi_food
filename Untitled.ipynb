{
  "nbformat": 4,
  "nbformat_minor": 0,
  "metadata": {
    "kernelspec": {
      "display_name": "Python 3",
      "language": "python",
      "name": "python3"
    },
    "language_info": {
      "codemirror_mode": {
        "name": "ipython",
        "version": 3
      },
      "file_extension": ".py",
      "mimetype": "text/x-python",
      "name": "python",
      "nbconvert_exporter": "python",
      "pygments_lexer": "ipython3",
      "version": "3.8.5"
    },
    "colab": {
      "name": "Untitled.ipynb",
      "provenance": [],
      "include_colab_link": true
    }
  },
  "cells": [
    {
      "cell_type": "markdown",
      "metadata": {
        "id": "view-in-github",
        "colab_type": "text"
      },
      "source": [
        "<a href=\"https://colab.research.google.com/github/davidalencia/neat_hindi_food/blob/main/Untitled.ipynb\" target=\"_parent\"><img src=\"https://colab.research.google.com/assets/colab-badge.svg\" alt=\"Open In Colab\"/></a>"
      ]
    },
    {
      "cell_type": "code",
      "metadata": {
        "id": "iwS441HZvo5a"
      },
      "source": [
        "import numpy as np"
      ],
      "execution_count": 1,
      "outputs": []
    },
    {
      "cell_type": "code",
      "metadata": {
        "id": "iFQOIMW-vsDD"
      },
      "source": [
        "class Gene:\n",
        "  def __init__(self, in_neuron, out, w, enable, innov_nb):\n",
        "    self.in_neuron = in_neuron\n",
        "    self.out = out\n",
        "    self.w = w\n",
        "    self.enable = enable\n",
        "    self.innov_nb = innov_nb"
      ],
      "execution_count": 2,
      "outputs": []
    },
    {
      "cell_type": "code",
      "metadata": {
        "id": "FLu25EPlwjAP"
      },
      "source": [
        "class Net:\n",
        "  def __init__(self, chromosome):\n",
        "    self.chromosome\n",
        "    #build dict\n",
        "  \n",
        "  def mutate():\n",
        "    pass"
      ],
      "execution_count": 6,
      "outputs": []
    },
    {
      "cell_type": "code",
      "metadata": {
        "id": "GtVC9DS6wsqw"
      },
      "source": [
        "class Neat():\n",
        "  def __init__(self):\n",
        "    self.geometric = Geometric(torch.tensor([0.3]))\n",
        "    #todo\n",
        "  \n",
        "  def parents_indexs()\n",
        "\n",
        "  def separar(self, redes):\n",
        "    pass\n",
        "\n",
        "  def ordenar(self, especie):\n",
        "    pass\n",
        "\n",
        "  def train(self, X, Y, pop = 50):\n",
        "    redes = list()\n",
        "    for i in range(pop):\n",
        "      redes.append(Net())\n",
        "    for r in redes:\n",
        "      r.mutate()\n",
        "    redes = self.separar(redes)\n",
        "    for especie  in redes:\n",
        "      self.ordenar(especie)\n",
        "    \n",
        "\n",
        "\n"
      ],
      "execution_count": 5,
      "outputs": []
    },
    {
      "cell_type": "code",
      "metadata": {
        "id": "oKujy0r7wxqc"
      },
      "source": [
        ""
      ],
      "execution_count": null,
      "outputs": []
    },
    {
      "cell_type": "markdown",
      "metadata": {
        "id": "Xkk53R__w21p"
      },
      "source": [
        "# Xor test"
      ]
    },
    {
      "cell_type": "code",
      "metadata": {
        "id": "33EZTEsyw-iz"
      },
      "source": [
        "X = [[0, 0], [0, 1], [1, 0], [1, 1]]\n",
        "Y = [[0], [1], [1], [0]]"
      ],
      "execution_count": null,
      "outputs": []
    }
  ]
}